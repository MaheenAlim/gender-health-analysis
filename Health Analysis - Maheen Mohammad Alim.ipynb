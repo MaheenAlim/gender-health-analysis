{
 "cells": [
  {
   "cell_type": "markdown",
   "metadata": {},
   "source": [
    "# **Assignment 1**\n",
    "### <span style=\"color:violet\">*Understanding the role of Gender & Occupation on Stress Levels and BMI on Heart Rate*</span>\n",
    "*Prepared by Maheen Mohammad Alim*\n",
    "<br>*Student ID: 100878291*"
   ]
  },
  {
   "cell_type": "markdown",
   "metadata": {},
   "source": [
    "The Sleep Health and Lifestyle Dataset, encompassing 374 individuals, provides a detailed exploration of sleep, health, and daily life. The dataset includes demographic information, health indicators (such as sleep duration and the presence of sleep disorders), and lifestyle elements like physical activity, stress, BMI, and cardiovascular health measures.\n",
    "I plan on investigating how Body Mass Index (BMI) connects with heart rate. Additionally, I'll see how stress levels are influenced by gender and occupation. The goal is to get a clear picture of how these factors relate in this diverse group."
   ]
  },
  {
   "cell_type": "markdown",
   "metadata": {},
   "source": [
    "## Methods"
   ]
  },
  {
   "cell_type": "markdown",
   "metadata": {},
   "source": [
    "### Processing Data"
   ]
  },
  {
   "cell_type": "markdown",
   "metadata": {},
   "source": [
    "The dataset used in this analysis was sourced from a Kaggle repository [1]."
   ]
  },
  {
   "cell_type": "code",
   "execution_count": 115,
   "metadata": {},
   "outputs": [],
   "source": [
    "import pandas as pd\n",
    "import seaborn as sns\n",
    "import matplotlib.pyplot as plt\n",
    "from IPython.display import display"
   ]
  },
  {
   "cell_type": "code",
   "execution_count": 116,
   "metadata": {},
   "outputs": [],
   "source": [
    "#Where are we?\n",
    "import os\n",
    "os.getcwd()\n",
    "\n",
    "#Using Panda's to read the csv file\n",
    "health_data = pd.read_csv(\"Sleep_health_and_lifestyle_dataset.csv\")\n",
    "\n",
    "#Using data to make a Data Frame with the necessary columns needed for this analysis\n",
    "health = pd.DataFrame(health_data)"
   ]
  },
  {
   "cell_type": "markdown",
   "metadata": {},
   "source": [
    "### Cleaning Data"
   ]
  },
  {
   "cell_type": "markdown",
   "metadata": {},
   "source": [
    "The dataset lacked explicit units for the recorded numerical data, so I assigned units based on information sourced from [1] to ensure clarity, by renaming the column headings."
   ]
  },
  {
   "cell_type": "code",
   "execution_count": 117,
   "metadata": {},
   "outputs": [],
   "source": [
    "#Renaming the column headings\n",
    "health.columns = [\"Person ID\", \"Gender\", \"Age\", \"Occupation\", \"Sleep Duration (hours)\", \"Sleep Quality (out of 10)\", \n",
    "                  \"Physical Activity (min/day)\", \"Stress Level (out of 10)\", \"BMI\", \"Blood Pressure\", \"Heart Rate (bpm)\", \n",
    "                  \"Daily Steps\", \"Sleep Disorder\"]"
   ]
  },
  {
   "cell_type": "markdown",
   "metadata": {},
   "source": [
    "Looking for missing values (NaN) in the pertinent columns for this analysis."
   ]
  },
  {
   "cell_type": "code",
   "execution_count": 118,
   "metadata": {},
   "outputs": [
    {
     "data": {
      "text/html": [
       "<div>\n",
       "<style scoped>\n",
       "    .dataframe tbody tr th:only-of-type {\n",
       "        vertical-align: middle;\n",
       "    }\n",
       "\n",
       "    .dataframe tbody tr th {\n",
       "        vertical-align: top;\n",
       "    }\n",
       "\n",
       "    .dataframe thead th {\n",
       "        text-align: right;\n",
       "    }\n",
       "</style>\n",
       "<table border=\"1\" class=\"dataframe\">\n",
       "  <thead>\n",
       "    <tr style=\"text-align: right;\">\n",
       "      <th></th>\n",
       "      <th>Person ID</th>\n",
       "      <th>Gender</th>\n",
       "      <th>Age</th>\n",
       "      <th>Occupation</th>\n",
       "      <th>Sleep Duration (hours)</th>\n",
       "      <th>Sleep Quality (out of 10)</th>\n",
       "      <th>Physical Activity (min/day)</th>\n",
       "      <th>Stress Level (out of 10)</th>\n",
       "      <th>BMI</th>\n",
       "      <th>Blood Pressure</th>\n",
       "      <th>Heart Rate (bpm)</th>\n",
       "      <th>Daily Steps</th>\n",
       "      <th>Sleep Disorder</th>\n",
       "    </tr>\n",
       "  </thead>\n",
       "  <tbody>\n",
       "  </tbody>\n",
       "</table>\n",
       "</div>"
      ],
      "text/plain": [
       "Empty DataFrame\n",
       "Columns: [Person ID, Gender, Age, Occupation, Sleep Duration (hours), Sleep Quality (out of 10), Physical Activity (min/day), Stress Level (out of 10), BMI, Blood Pressure, Heart Rate (bpm), Daily Steps, Sleep Disorder]\n",
       "Index: []"
      ]
     },
     "execution_count": 118,
     "metadata": {},
     "output_type": "execute_result"
    }
   ],
   "source": [
    "health[health.Gender.isna()]"
   ]
  },
  {
   "cell_type": "code",
   "execution_count": 119,
   "metadata": {},
   "outputs": [
    {
     "data": {
      "text/html": [
       "<div>\n",
       "<style scoped>\n",
       "    .dataframe tbody tr th:only-of-type {\n",
       "        vertical-align: middle;\n",
       "    }\n",
       "\n",
       "    .dataframe tbody tr th {\n",
       "        vertical-align: top;\n",
       "    }\n",
       "\n",
       "    .dataframe thead th {\n",
       "        text-align: right;\n",
       "    }\n",
       "</style>\n",
       "<table border=\"1\" class=\"dataframe\">\n",
       "  <thead>\n",
       "    <tr style=\"text-align: right;\">\n",
       "      <th></th>\n",
       "      <th>Person ID</th>\n",
       "      <th>Gender</th>\n",
       "      <th>Age</th>\n",
       "      <th>Occupation</th>\n",
       "      <th>Sleep Duration (hours)</th>\n",
       "      <th>Sleep Quality (out of 10)</th>\n",
       "      <th>Physical Activity (min/day)</th>\n",
       "      <th>Stress Level (out of 10)</th>\n",
       "      <th>BMI</th>\n",
       "      <th>Blood Pressure</th>\n",
       "      <th>Heart Rate (bpm)</th>\n",
       "      <th>Daily Steps</th>\n",
       "      <th>Sleep Disorder</th>\n",
       "    </tr>\n",
       "  </thead>\n",
       "  <tbody>\n",
       "  </tbody>\n",
       "</table>\n",
       "</div>"
      ],
      "text/plain": [
       "Empty DataFrame\n",
       "Columns: [Person ID, Gender, Age, Occupation, Sleep Duration (hours), Sleep Quality (out of 10), Physical Activity (min/day), Stress Level (out of 10), BMI, Blood Pressure, Heart Rate (bpm), Daily Steps, Sleep Disorder]\n",
       "Index: []"
      ]
     },
     "execution_count": 119,
     "metadata": {},
     "output_type": "execute_result"
    }
   ],
   "source": [
    "health[health.Occupation.isna()]"
   ]
  },
  {
   "cell_type": "code",
   "execution_count": 120,
   "metadata": {},
   "outputs": [
    {
     "data": {
      "text/html": [
       "<div>\n",
       "<style scoped>\n",
       "    .dataframe tbody tr th:only-of-type {\n",
       "        vertical-align: middle;\n",
       "    }\n",
       "\n",
       "    .dataframe tbody tr th {\n",
       "        vertical-align: top;\n",
       "    }\n",
       "\n",
       "    .dataframe thead th {\n",
       "        text-align: right;\n",
       "    }\n",
       "</style>\n",
       "<table border=\"1\" class=\"dataframe\">\n",
       "  <thead>\n",
       "    <tr style=\"text-align: right;\">\n",
       "      <th></th>\n",
       "      <th>Person ID</th>\n",
       "      <th>Gender</th>\n",
       "      <th>Age</th>\n",
       "      <th>Occupation</th>\n",
       "      <th>Sleep Duration (hours)</th>\n",
       "      <th>Sleep Quality (out of 10)</th>\n",
       "      <th>Physical Activity (min/day)</th>\n",
       "      <th>Stress Level (out of 10)</th>\n",
       "      <th>BMI</th>\n",
       "      <th>Blood Pressure</th>\n",
       "      <th>Heart Rate (bpm)</th>\n",
       "      <th>Daily Steps</th>\n",
       "      <th>Sleep Disorder</th>\n",
       "    </tr>\n",
       "  </thead>\n",
       "  <tbody>\n",
       "  </tbody>\n",
       "</table>\n",
       "</div>"
      ],
      "text/plain": [
       "Empty DataFrame\n",
       "Columns: [Person ID, Gender, Age, Occupation, Sleep Duration (hours), Sleep Quality (out of 10), Physical Activity (min/day), Stress Level (out of 10), BMI, Blood Pressure, Heart Rate (bpm), Daily Steps, Sleep Disorder]\n",
       "Index: []"
      ]
     },
     "execution_count": 120,
     "metadata": {},
     "output_type": "execute_result"
    }
   ],
   "source": [
    "health[health.BMI.isna()]"
   ]
  },
  {
   "cell_type": "code",
   "execution_count": 121,
   "metadata": {},
   "outputs": [
    {
     "data": {
      "text/html": [
       "<div>\n",
       "<style scoped>\n",
       "    .dataframe tbody tr th:only-of-type {\n",
       "        vertical-align: middle;\n",
       "    }\n",
       "\n",
       "    .dataframe tbody tr th {\n",
       "        vertical-align: top;\n",
       "    }\n",
       "\n",
       "    .dataframe thead th {\n",
       "        text-align: right;\n",
       "    }\n",
       "</style>\n",
       "<table border=\"1\" class=\"dataframe\">\n",
       "  <thead>\n",
       "    <tr style=\"text-align: right;\">\n",
       "      <th></th>\n",
       "      <th>Person ID</th>\n",
       "      <th>Gender</th>\n",
       "      <th>Age</th>\n",
       "      <th>Occupation</th>\n",
       "      <th>Sleep Duration (hours)</th>\n",
       "      <th>Sleep Quality (out of 10)</th>\n",
       "      <th>Physical Activity (min/day)</th>\n",
       "      <th>Stress Level (out of 10)</th>\n",
       "      <th>BMI</th>\n",
       "      <th>Blood Pressure</th>\n",
       "      <th>Heart Rate (bpm)</th>\n",
       "      <th>Daily Steps</th>\n",
       "      <th>Sleep Disorder</th>\n",
       "    </tr>\n",
       "  </thead>\n",
       "  <tbody>\n",
       "  </tbody>\n",
       "</table>\n",
       "</div>"
      ],
      "text/plain": [
       "Empty DataFrame\n",
       "Columns: [Person ID, Gender, Age, Occupation, Sleep Duration (hours), Sleep Quality (out of 10), Physical Activity (min/day), Stress Level (out of 10), BMI, Blood Pressure, Heart Rate (bpm), Daily Steps, Sleep Disorder]\n",
       "Index: []"
      ]
     },
     "execution_count": 121,
     "metadata": {},
     "output_type": "execute_result"
    }
   ],
   "source": [
    "health[health[\"Stress Level (out of 10)\"].isna()]"
   ]
  },
  {
   "cell_type": "code",
   "execution_count": 122,
   "metadata": {},
   "outputs": [
    {
     "data": {
      "text/html": [
       "<div>\n",
       "<style scoped>\n",
       "    .dataframe tbody tr th:only-of-type {\n",
       "        vertical-align: middle;\n",
       "    }\n",
       "\n",
       "    .dataframe tbody tr th {\n",
       "        vertical-align: top;\n",
       "    }\n",
       "\n",
       "    .dataframe thead th {\n",
       "        text-align: right;\n",
       "    }\n",
       "</style>\n",
       "<table border=\"1\" class=\"dataframe\">\n",
       "  <thead>\n",
       "    <tr style=\"text-align: right;\">\n",
       "      <th></th>\n",
       "      <th>Person ID</th>\n",
       "      <th>Gender</th>\n",
       "      <th>Age</th>\n",
       "      <th>Occupation</th>\n",
       "      <th>Sleep Duration (hours)</th>\n",
       "      <th>Sleep Quality (out of 10)</th>\n",
       "      <th>Physical Activity (min/day)</th>\n",
       "      <th>Stress Level (out of 10)</th>\n",
       "      <th>BMI</th>\n",
       "      <th>Blood Pressure</th>\n",
       "      <th>Heart Rate (bpm)</th>\n",
       "      <th>Daily Steps</th>\n",
       "      <th>Sleep Disorder</th>\n",
       "    </tr>\n",
       "  </thead>\n",
       "  <tbody>\n",
       "  </tbody>\n",
       "</table>\n",
       "</div>"
      ],
      "text/plain": [
       "Empty DataFrame\n",
       "Columns: [Person ID, Gender, Age, Occupation, Sleep Duration (hours), Sleep Quality (out of 10), Physical Activity (min/day), Stress Level (out of 10), BMI, Blood Pressure, Heart Rate (bpm), Daily Steps, Sleep Disorder]\n",
       "Index: []"
      ]
     },
     "execution_count": 122,
     "metadata": {},
     "output_type": "execute_result"
    }
   ],
   "source": [
    "health[health[\"Heart Rate (bpm)\"].isna()]"
   ]
  },
  {
   "cell_type": "markdown",
   "metadata": {},
   "source": [
    "There were no missing data entries in the pertinent columns."
   ]
  },
  {
   "cell_type": "markdown",
   "metadata": {},
   "source": [
    "Removing the column \"Person ID\" since it was unnecessary as the index serves the purpose of tracking the number of data entries in this dataset."
   ]
  },
  {
   "cell_type": "code",
   "execution_count": 123,
   "metadata": {},
   "outputs": [],
   "source": [
    "#Dropping unnecessary columns\n",
    "health = health.drop([\"Person ID\"], axis=1)"
   ]
  },
  {
   "cell_type": "markdown",
   "metadata": {},
   "source": [
    "There are 242 duplicates in this datset."
   ]
  },
  {
   "cell_type": "code",
   "execution_count": 124,
   "metadata": {},
   "outputs": [
    {
     "data": {
      "text/html": [
       "<div>\n",
       "<style scoped>\n",
       "    .dataframe tbody tr th:only-of-type {\n",
       "        vertical-align: middle;\n",
       "    }\n",
       "\n",
       "    .dataframe tbody tr th {\n",
       "        vertical-align: top;\n",
       "    }\n",
       "\n",
       "    .dataframe thead th {\n",
       "        text-align: right;\n",
       "    }\n",
       "</style>\n",
       "<table border=\"1\" class=\"dataframe\">\n",
       "  <thead>\n",
       "    <tr style=\"text-align: right;\">\n",
       "      <th></th>\n",
       "      <th>Gender</th>\n",
       "      <th>Age</th>\n",
       "      <th>Occupation</th>\n",
       "      <th>Sleep Duration (hours)</th>\n",
       "      <th>Sleep Quality (out of 10)</th>\n",
       "      <th>Physical Activity (min/day)</th>\n",
       "      <th>Stress Level (out of 10)</th>\n",
       "      <th>BMI</th>\n",
       "      <th>Blood Pressure</th>\n",
       "      <th>Heart Rate (bpm)</th>\n",
       "      <th>Daily Steps</th>\n",
       "      <th>Sleep Disorder</th>\n",
       "    </tr>\n",
       "  </thead>\n",
       "  <tbody>\n",
       "    <tr>\n",
       "      <th>2</th>\n",
       "      <td>Male</td>\n",
       "      <td>28</td>\n",
       "      <td>Doctor</td>\n",
       "      <td>6.2</td>\n",
       "      <td>6</td>\n",
       "      <td>60</td>\n",
       "      <td>8</td>\n",
       "      <td>Normal</td>\n",
       "      <td>125/80</td>\n",
       "      <td>75</td>\n",
       "      <td>10000</td>\n",
       "      <td>NaN</td>\n",
       "    </tr>\n",
       "    <tr>\n",
       "      <th>4</th>\n",
       "      <td>Male</td>\n",
       "      <td>28</td>\n",
       "      <td>Sales Representative</td>\n",
       "      <td>5.9</td>\n",
       "      <td>4</td>\n",
       "      <td>30</td>\n",
       "      <td>8</td>\n",
       "      <td>Obese</td>\n",
       "      <td>140/90</td>\n",
       "      <td>85</td>\n",
       "      <td>3000</td>\n",
       "      <td>Sleep Apnea</td>\n",
       "    </tr>\n",
       "    <tr>\n",
       "      <th>8</th>\n",
       "      <td>Male</td>\n",
       "      <td>29</td>\n",
       "      <td>Doctor</td>\n",
       "      <td>7.8</td>\n",
       "      <td>7</td>\n",
       "      <td>75</td>\n",
       "      <td>6</td>\n",
       "      <td>Normal</td>\n",
       "      <td>120/80</td>\n",
       "      <td>70</td>\n",
       "      <td>8000</td>\n",
       "      <td>NaN</td>\n",
       "    </tr>\n",
       "    <tr>\n",
       "      <th>9</th>\n",
       "      <td>Male</td>\n",
       "      <td>29</td>\n",
       "      <td>Doctor</td>\n",
       "      <td>7.8</td>\n",
       "      <td>7</td>\n",
       "      <td>75</td>\n",
       "      <td>6</td>\n",
       "      <td>Normal</td>\n",
       "      <td>120/80</td>\n",
       "      <td>70</td>\n",
       "      <td>8000</td>\n",
       "      <td>NaN</td>\n",
       "    </tr>\n",
       "    <tr>\n",
       "      <th>11</th>\n",
       "      <td>Male</td>\n",
       "      <td>29</td>\n",
       "      <td>Doctor</td>\n",
       "      <td>7.8</td>\n",
       "      <td>7</td>\n",
       "      <td>75</td>\n",
       "      <td>6</td>\n",
       "      <td>Normal</td>\n",
       "      <td>120/80</td>\n",
       "      <td>70</td>\n",
       "      <td>8000</td>\n",
       "      <td>NaN</td>\n",
       "    </tr>\n",
       "    <tr>\n",
       "      <th>...</th>\n",
       "      <td>...</td>\n",
       "      <td>...</td>\n",
       "      <td>...</td>\n",
       "      <td>...</td>\n",
       "      <td>...</td>\n",
       "      <td>...</td>\n",
       "      <td>...</td>\n",
       "      <td>...</td>\n",
       "      <td>...</td>\n",
       "      <td>...</td>\n",
       "      <td>...</td>\n",
       "      <td>...</td>\n",
       "    </tr>\n",
       "    <tr>\n",
       "      <th>369</th>\n",
       "      <td>Female</td>\n",
       "      <td>59</td>\n",
       "      <td>Nurse</td>\n",
       "      <td>8.1</td>\n",
       "      <td>9</td>\n",
       "      <td>75</td>\n",
       "      <td>3</td>\n",
       "      <td>Overweight</td>\n",
       "      <td>140/95</td>\n",
       "      <td>68</td>\n",
       "      <td>7000</td>\n",
       "      <td>Sleep Apnea</td>\n",
       "    </tr>\n",
       "    <tr>\n",
       "      <th>370</th>\n",
       "      <td>Female</td>\n",
       "      <td>59</td>\n",
       "      <td>Nurse</td>\n",
       "      <td>8.0</td>\n",
       "      <td>9</td>\n",
       "      <td>75</td>\n",
       "      <td>3</td>\n",
       "      <td>Overweight</td>\n",
       "      <td>140/95</td>\n",
       "      <td>68</td>\n",
       "      <td>7000</td>\n",
       "      <td>Sleep Apnea</td>\n",
       "    </tr>\n",
       "    <tr>\n",
       "      <th>371</th>\n",
       "      <td>Female</td>\n",
       "      <td>59</td>\n",
       "      <td>Nurse</td>\n",
       "      <td>8.1</td>\n",
       "      <td>9</td>\n",
       "      <td>75</td>\n",
       "      <td>3</td>\n",
       "      <td>Overweight</td>\n",
       "      <td>140/95</td>\n",
       "      <td>68</td>\n",
       "      <td>7000</td>\n",
       "      <td>Sleep Apnea</td>\n",
       "    </tr>\n",
       "    <tr>\n",
       "      <th>372</th>\n",
       "      <td>Female</td>\n",
       "      <td>59</td>\n",
       "      <td>Nurse</td>\n",
       "      <td>8.1</td>\n",
       "      <td>9</td>\n",
       "      <td>75</td>\n",
       "      <td>3</td>\n",
       "      <td>Overweight</td>\n",
       "      <td>140/95</td>\n",
       "      <td>68</td>\n",
       "      <td>7000</td>\n",
       "      <td>Sleep Apnea</td>\n",
       "    </tr>\n",
       "    <tr>\n",
       "      <th>373</th>\n",
       "      <td>Female</td>\n",
       "      <td>59</td>\n",
       "      <td>Nurse</td>\n",
       "      <td>8.1</td>\n",
       "      <td>9</td>\n",
       "      <td>75</td>\n",
       "      <td>3</td>\n",
       "      <td>Overweight</td>\n",
       "      <td>140/95</td>\n",
       "      <td>68</td>\n",
       "      <td>7000</td>\n",
       "      <td>Sleep Apnea</td>\n",
       "    </tr>\n",
       "  </tbody>\n",
       "</table>\n",
       "<p>242 rows × 12 columns</p>\n",
       "</div>"
      ],
      "text/plain": [
       "     Gender  Age            Occupation  Sleep Duration (hours)  \\\n",
       "2      Male   28                Doctor                     6.2   \n",
       "4      Male   28  Sales Representative                     5.9   \n",
       "8      Male   29                Doctor                     7.8   \n",
       "9      Male   29                Doctor                     7.8   \n",
       "11     Male   29                Doctor                     7.8   \n",
       "..      ...  ...                   ...                     ...   \n",
       "369  Female   59                 Nurse                     8.1   \n",
       "370  Female   59                 Nurse                     8.0   \n",
       "371  Female   59                 Nurse                     8.1   \n",
       "372  Female   59                 Nurse                     8.1   \n",
       "373  Female   59                 Nurse                     8.1   \n",
       "\n",
       "     Sleep Quality (out of 10)  Physical Activity (min/day)  \\\n",
       "2                            6                           60   \n",
       "4                            4                           30   \n",
       "8                            7                           75   \n",
       "9                            7                           75   \n",
       "11                           7                           75   \n",
       "..                         ...                          ...   \n",
       "369                          9                           75   \n",
       "370                          9                           75   \n",
       "371                          9                           75   \n",
       "372                          9                           75   \n",
       "373                          9                           75   \n",
       "\n",
       "     Stress Level (out of 10)         BMI Blood Pressure  Heart Rate (bpm)  \\\n",
       "2                           8      Normal         125/80                75   \n",
       "4                           8       Obese         140/90                85   \n",
       "8                           6      Normal         120/80                70   \n",
       "9                           6      Normal         120/80                70   \n",
       "11                          6      Normal         120/80                70   \n",
       "..                        ...         ...            ...               ...   \n",
       "369                         3  Overweight         140/95                68   \n",
       "370                         3  Overweight         140/95                68   \n",
       "371                         3  Overweight         140/95                68   \n",
       "372                         3  Overweight         140/95                68   \n",
       "373                         3  Overweight         140/95                68   \n",
       "\n",
       "     Daily Steps Sleep Disorder  \n",
       "2          10000            NaN  \n",
       "4           3000    Sleep Apnea  \n",
       "8           8000            NaN  \n",
       "9           8000            NaN  \n",
       "11          8000            NaN  \n",
       "..           ...            ...  \n",
       "369         7000    Sleep Apnea  \n",
       "370         7000    Sleep Apnea  \n",
       "371         7000    Sleep Apnea  \n",
       "372         7000    Sleep Apnea  \n",
       "373         7000    Sleep Apnea  \n",
       "\n",
       "[242 rows x 12 columns]"
      ]
     },
     "execution_count": 124,
     "metadata": {},
     "output_type": "execute_result"
    }
   ],
   "source": [
    "#Looking for duplicates in the dataset \n",
    "health[health.duplicated()]\n",
    "#There are 242 duplicates"
   ]
  },
  {
   "cell_type": "markdown",
   "metadata": {},
   "source": [
    "Removing the duplicate data entries."
   ]
  },
  {
   "cell_type": "code",
   "execution_count": 125,
   "metadata": {},
   "outputs": [],
   "source": [
    "#Dropping those 242 Duplicates\n",
    "health = health.drop_duplicates()"
   ]
  },
  {
   "cell_type": "markdown",
   "metadata": {},
   "source": [
    "Resetting the index since the duplicates were removed."
   ]
  },
  {
   "cell_type": "code",
   "execution_count": 126,
   "metadata": {},
   "outputs": [
    {
     "data": {
      "text/html": [
       "<div>\n",
       "<style scoped>\n",
       "    .dataframe tbody tr th:only-of-type {\n",
       "        vertical-align: middle;\n",
       "    }\n",
       "\n",
       "    .dataframe tbody tr th {\n",
       "        vertical-align: top;\n",
       "    }\n",
       "\n",
       "    .dataframe thead th {\n",
       "        text-align: right;\n",
       "    }\n",
       "</style>\n",
       "<table border=\"1\" class=\"dataframe\">\n",
       "  <thead>\n",
       "    <tr style=\"text-align: right;\">\n",
       "      <th></th>\n",
       "      <th>Gender</th>\n",
       "      <th>Age</th>\n",
       "      <th>Occupation</th>\n",
       "      <th>Sleep Duration (hours)</th>\n",
       "      <th>Sleep Quality (out of 10)</th>\n",
       "      <th>Physical Activity (min/day)</th>\n",
       "      <th>Stress Level (out of 10)</th>\n",
       "      <th>BMI</th>\n",
       "      <th>Blood Pressure</th>\n",
       "      <th>Heart Rate (bpm)</th>\n",
       "      <th>Daily Steps</th>\n",
       "      <th>Sleep Disorder</th>\n",
       "    </tr>\n",
       "  </thead>\n",
       "  <tbody>\n",
       "    <tr>\n",
       "      <th>0</th>\n",
       "      <td>Male</td>\n",
       "      <td>27</td>\n",
       "      <td>Software Engineer</td>\n",
       "      <td>6.1</td>\n",
       "      <td>6</td>\n",
       "      <td>42</td>\n",
       "      <td>6</td>\n",
       "      <td>Overweight</td>\n",
       "      <td>126/83</td>\n",
       "      <td>77</td>\n",
       "      <td>4200</td>\n",
       "      <td>NaN</td>\n",
       "    </tr>\n",
       "    <tr>\n",
       "      <th>1</th>\n",
       "      <td>Male</td>\n",
       "      <td>28</td>\n",
       "      <td>Doctor</td>\n",
       "      <td>6.2</td>\n",
       "      <td>6</td>\n",
       "      <td>60</td>\n",
       "      <td>8</td>\n",
       "      <td>Normal</td>\n",
       "      <td>125/80</td>\n",
       "      <td>75</td>\n",
       "      <td>10000</td>\n",
       "      <td>NaN</td>\n",
       "    </tr>\n",
       "    <tr>\n",
       "      <th>2</th>\n",
       "      <td>Male</td>\n",
       "      <td>28</td>\n",
       "      <td>Sales Representative</td>\n",
       "      <td>5.9</td>\n",
       "      <td>4</td>\n",
       "      <td>30</td>\n",
       "      <td>8</td>\n",
       "      <td>Obese</td>\n",
       "      <td>140/90</td>\n",
       "      <td>85</td>\n",
       "      <td>3000</td>\n",
       "      <td>Sleep Apnea</td>\n",
       "    </tr>\n",
       "    <tr>\n",
       "      <th>3</th>\n",
       "      <td>Male</td>\n",
       "      <td>28</td>\n",
       "      <td>Software Engineer</td>\n",
       "      <td>5.9</td>\n",
       "      <td>4</td>\n",
       "      <td>30</td>\n",
       "      <td>8</td>\n",
       "      <td>Obese</td>\n",
       "      <td>140/90</td>\n",
       "      <td>85</td>\n",
       "      <td>3000</td>\n",
       "      <td>Insomnia</td>\n",
       "    </tr>\n",
       "    <tr>\n",
       "      <th>4</th>\n",
       "      <td>Male</td>\n",
       "      <td>29</td>\n",
       "      <td>Teacher</td>\n",
       "      <td>6.3</td>\n",
       "      <td>6</td>\n",
       "      <td>40</td>\n",
       "      <td>7</td>\n",
       "      <td>Obese</td>\n",
       "      <td>140/90</td>\n",
       "      <td>82</td>\n",
       "      <td>3500</td>\n",
       "      <td>Insomnia</td>\n",
       "    </tr>\n",
       "    <tr>\n",
       "      <th>...</th>\n",
       "      <td>...</td>\n",
       "      <td>...</td>\n",
       "      <td>...</td>\n",
       "      <td>...</td>\n",
       "      <td>...</td>\n",
       "      <td>...</td>\n",
       "      <td>...</td>\n",
       "      <td>...</td>\n",
       "      <td>...</td>\n",
       "      <td>...</td>\n",
       "      <td>...</td>\n",
       "      <td>...</td>\n",
       "    </tr>\n",
       "    <tr>\n",
       "      <th>127</th>\n",
       "      <td>Female</td>\n",
       "      <td>59</td>\n",
       "      <td>Nurse</td>\n",
       "      <td>8.0</td>\n",
       "      <td>9</td>\n",
       "      <td>75</td>\n",
       "      <td>3</td>\n",
       "      <td>Overweight</td>\n",
       "      <td>140/95</td>\n",
       "      <td>68</td>\n",
       "      <td>7000</td>\n",
       "      <td>NaN</td>\n",
       "    </tr>\n",
       "    <tr>\n",
       "      <th>128</th>\n",
       "      <td>Female</td>\n",
       "      <td>59</td>\n",
       "      <td>Nurse</td>\n",
       "      <td>8.1</td>\n",
       "      <td>9</td>\n",
       "      <td>75</td>\n",
       "      <td>3</td>\n",
       "      <td>Overweight</td>\n",
       "      <td>140/95</td>\n",
       "      <td>68</td>\n",
       "      <td>7000</td>\n",
       "      <td>NaN</td>\n",
       "    </tr>\n",
       "    <tr>\n",
       "      <th>129</th>\n",
       "      <td>Female</td>\n",
       "      <td>59</td>\n",
       "      <td>Nurse</td>\n",
       "      <td>8.2</td>\n",
       "      <td>9</td>\n",
       "      <td>75</td>\n",
       "      <td>3</td>\n",
       "      <td>Overweight</td>\n",
       "      <td>140/95</td>\n",
       "      <td>68</td>\n",
       "      <td>7000</td>\n",
       "      <td>Sleep Apnea</td>\n",
       "    </tr>\n",
       "    <tr>\n",
       "      <th>130</th>\n",
       "      <td>Female</td>\n",
       "      <td>59</td>\n",
       "      <td>Nurse</td>\n",
       "      <td>8.0</td>\n",
       "      <td>9</td>\n",
       "      <td>75</td>\n",
       "      <td>3</td>\n",
       "      <td>Overweight</td>\n",
       "      <td>140/95</td>\n",
       "      <td>68</td>\n",
       "      <td>7000</td>\n",
       "      <td>Sleep Apnea</td>\n",
       "    </tr>\n",
       "    <tr>\n",
       "      <th>131</th>\n",
       "      <td>Female</td>\n",
       "      <td>59</td>\n",
       "      <td>Nurse</td>\n",
       "      <td>8.1</td>\n",
       "      <td>9</td>\n",
       "      <td>75</td>\n",
       "      <td>3</td>\n",
       "      <td>Overweight</td>\n",
       "      <td>140/95</td>\n",
       "      <td>68</td>\n",
       "      <td>7000</td>\n",
       "      <td>Sleep Apnea</td>\n",
       "    </tr>\n",
       "  </tbody>\n",
       "</table>\n",
       "<p>132 rows × 12 columns</p>\n",
       "</div>"
      ],
      "text/plain": [
       "     Gender  Age            Occupation  Sleep Duration (hours)  \\\n",
       "0      Male   27     Software Engineer                     6.1   \n",
       "1      Male   28                Doctor                     6.2   \n",
       "2      Male   28  Sales Representative                     5.9   \n",
       "3      Male   28     Software Engineer                     5.9   \n",
       "4      Male   29               Teacher                     6.3   \n",
       "..      ...  ...                   ...                     ...   \n",
       "127  Female   59                 Nurse                     8.0   \n",
       "128  Female   59                 Nurse                     8.1   \n",
       "129  Female   59                 Nurse                     8.2   \n",
       "130  Female   59                 Nurse                     8.0   \n",
       "131  Female   59                 Nurse                     8.1   \n",
       "\n",
       "     Sleep Quality (out of 10)  Physical Activity (min/day)  \\\n",
       "0                            6                           42   \n",
       "1                            6                           60   \n",
       "2                            4                           30   \n",
       "3                            4                           30   \n",
       "4                            6                           40   \n",
       "..                         ...                          ...   \n",
       "127                          9                           75   \n",
       "128                          9                           75   \n",
       "129                          9                           75   \n",
       "130                          9                           75   \n",
       "131                          9                           75   \n",
       "\n",
       "     Stress Level (out of 10)         BMI Blood Pressure  Heart Rate (bpm)  \\\n",
       "0                           6  Overweight         126/83                77   \n",
       "1                           8      Normal         125/80                75   \n",
       "2                           8       Obese         140/90                85   \n",
       "3                           8       Obese         140/90                85   \n",
       "4                           7       Obese         140/90                82   \n",
       "..                        ...         ...            ...               ...   \n",
       "127                         3  Overweight         140/95                68   \n",
       "128                         3  Overweight         140/95                68   \n",
       "129                         3  Overweight         140/95                68   \n",
       "130                         3  Overweight         140/95                68   \n",
       "131                         3  Overweight         140/95                68   \n",
       "\n",
       "     Daily Steps Sleep Disorder  \n",
       "0           4200            NaN  \n",
       "1          10000            NaN  \n",
       "2           3000    Sleep Apnea  \n",
       "3           3000       Insomnia  \n",
       "4           3500       Insomnia  \n",
       "..           ...            ...  \n",
       "127         7000            NaN  \n",
       "128         7000            NaN  \n",
       "129         7000    Sleep Apnea  \n",
       "130         7000    Sleep Apnea  \n",
       "131         7000    Sleep Apnea  \n",
       "\n",
       "[132 rows x 12 columns]"
      ]
     },
     "metadata": {},
     "output_type": "display_data"
    }
   ],
   "source": [
    "#Resetting the index using reset_index and dropping the old index\n",
    "health = health.reset_index(drop=True)\n",
    "display(health)"
   ]
  },
  {
   "cell_type": "markdown",
   "metadata": {},
   "source": [
    "## Analysis"
   ]
  },
  {
   "cell_type": "markdown",
   "metadata": {},
   "source": [
    "I plan to investigate the connections between gender and occupation concerning stress levels, as well as explore the impact of BMI on heart rate through exploratory analysis, consisiting of statistical summaries and data visualizations."
   ]
  },
  {
   "cell_type": "markdown",
   "metadata": {},
   "source": [
    "### Understanding Descriptive Statistics"
   ]
  },
  {
   "cell_type": "markdown",
   "metadata": {},
   "source": [
    "The following count plot shows that majority of the people who provided their data are Nurses, Engineers and Doctors followed by other occupations."
   ]
  },
  {
   "cell_type": "code",
   "execution_count": 127,
   "metadata": {},
   "outputs": [
    {
     "data": {
      "image/png": "[encoded data removed]",
      "text/plain": [
       "<Figure size 640x480 with 1 Axes>"
      ]
     },
     "metadata": {},
     "output_type": "display_data"
    }
   ],
   "source": [
    "#Generating a countplot, visualizing the distribution of various occupations\n",
    "o = sns.countplot(x=\"Occupation\", data=health, palette=\"crest\", edgecolor=\"black\").set(title=\"Fig 1. Occupation Distribution\", \n",
    "                                                                                        xlabel=\"Occupation\", ylabel=\"Frequency\")\n",
    "plt.xticks(rotation=90)\n",
    "plt.show(o)"
   ]
  },
  {
   "cell_type": "markdown",
   "metadata": {},
   "source": [
    "The following data shows the exact frequencies for different occupations."
   ]
  },
  {
   "cell_type": "code",
   "execution_count": 128,
   "metadata": {},
   "outputs": [
    {
     "data": {
      "text/plain": [
       "Occupation\n",
       "Nurse                   29\n",
       "Doctor                  24\n",
       "Engineer                22\n",
       "Teacher                 15\n",
       "Lawyer                  15\n",
       "Accountant              11\n",
       "Salesperson              9\n",
       "Software Engineer        3\n",
       "Scientist                2\n",
       "Sales Representative     1\n",
       "Manager                  1\n",
       "Name: count, dtype: int64"
      ]
     },
     "execution_count": 128,
     "metadata": {},
     "output_type": "execute_result"
    }
   ],
   "source": [
    "health.Occupation.value_counts()"
   ]
  },
  {
   "cell_type": "markdown",
   "metadata": {},
   "source": [
    "The following count plot shows that there were almost the same number of males and females who provided their data."
   ]
  },
  {
   "cell_type": "code",
   "execution_count": 129,
   "metadata": {},
   "outputs": [
    {
     "data": {
      "image/png": "[encoded data removed]",
      "text/plain": [
       "<Figure size 640x480 with 1 Axes>"
      ]
     },
     "metadata": {},
     "output_type": "display_data"
    }
   ],
   "source": [
    "#Generating a countplot, visualizing the distribution of genders\n",
    "g = sns.countplot(x=\"Gender\", data=health, palette=[\"lightblue\",\"lightpink\"], edgecolor=\"black\").set(title=\"Fig 2. Gender Distribution\", \n",
    "                                                                                xlabel=\"Gender\", ylabel=\"Frequency\")"
   ]
  },
  {
   "cell_type": "markdown",
   "metadata": {},
   "source": [
    "The following data shows the exact number of males and females who provided their data."
   ]
  },
  {
   "cell_type": "code",
   "execution_count": 130,
   "metadata": {},
   "outputs": [
    {
     "data": {
      "text/plain": [
       "Gender\n",
       "Male      67\n",
       "Female    65\n",
       "Name: count, dtype: int64"
      ]
     },
     "execution_count": 130,
     "metadata": {},
     "output_type": "execute_result"
    }
   ],
   "source": [
    "health.Gender.value_counts()"
   ]
  },
  {
   "cell_type": "markdown",
   "metadata": {},
   "source": [
    "Replacing \"Normal\" to \"Normal Weight\" for plotting and data accuracy."
   ]
  },
  {
   "cell_type": "code",
   "execution_count": 131,
   "metadata": {},
   "outputs": [],
   "source": [
    "#Replacing \"Normal\" to \"Normal Weight\" in \"BMI\" for plotting and data accuracy\n",
    "health = health.replace({'BMI': {\"Normal\": 'Normal Weight'}})"
   ]
  },
  {
   "cell_type": "markdown",
   "metadata": {},
   "source": [
    "The following pie chart shows the distribution various BMI categories in this dataset. It can be seen that most of the people who provoded their data were Normal Weight followed by Overweight and Obese."
   ]
  },
  {
   "cell_type": "code",
   "execution_count": 132,
   "metadata": {},
   "outputs": [
    {
     "data": {
      "image/png": "[encoded data removed]",
      "text/plain": [
       "<Figure size 640x480 with 1 Axes>"
      ]
     },
     "metadata": {},
     "output_type": "display_data"
    }
   ],
   "source": [
    "#Caclulating the count of each bmi category\n",
    "bmi_counts = health.BMI.value_counts()\n",
    "\n",
    "#Defining labels for the pie chart\n",
    "labels = [\"Normal Weight\", \"Overweight\", \"Obese\"]\n",
    "\n",
    "#Defining a seaborn color paltte for the pie chart\n",
    "colors = sns.color_palette(\"Set2\")\n",
    "\n",
    "#Plotting a pie chart using the counts of each BMI category and labels\n",
    "plt.pie(bmi_counts, labels=labels, colors=colors, autopct=\"%1.0f%%\")\n",
    "plt.title(\"BMI Distribution\")\n",
    "plt.show()"
   ]
  },
  {
   "cell_type": "markdown",
   "metadata": {},
   "source": [
    "### Gender and Occupation on Stress Levels"
   ]
  },
  {
   "cell_type": "markdown",
   "metadata": {},
   "source": [
    "The table below offers a summary of stress levels, organized by both occupations and genders."
   ]
  },
  {
   "cell_type": "code",
   "execution_count": 133,
   "metadata": {},
   "outputs": [
    {
     "data": {
      "text/html": [
       "<div>\n",
       "<style scoped>\n",
       "    .dataframe tbody tr th:only-of-type {\n",
       "        vertical-align: middle;\n",
       "    }\n",
       "\n",
       "    .dataframe tbody tr th {\n",
       "        vertical-align: top;\n",
       "    }\n",
       "\n",
       "    .dataframe thead tr th {\n",
       "        text-align: left;\n",
       "    }\n",
       "\n",
       "    .dataframe thead tr:last-of-type th {\n",
       "        text-align: right;\n",
       "    }\n",
       "</style>\n",
       "<table border=\"1\" class=\"dataframe\">\n",
       "  <thead>\n",
       "    <tr>\n",
       "      <th></th>\n",
       "      <th colspan=\"2\" halign=\"left\">Stress Level (out of 10)</th>\n",
       "    </tr>\n",
       "    <tr>\n",
       "      <th>Gender</th>\n",
       "      <th>Female</th>\n",
       "      <th>Male</th>\n",
       "    </tr>\n",
       "    <tr>\n",
       "      <th>Occupation</th>\n",
       "      <th></th>\n",
       "      <th></th>\n",
       "    </tr>\n",
       "  </thead>\n",
       "  <tbody>\n",
       "    <tr>\n",
       "      <th>Accountant</th>\n",
       "      <td>4.70</td>\n",
       "      <td>6.00</td>\n",
       "    </tr>\n",
       "    <tr>\n",
       "      <th>Doctor</th>\n",
       "      <td>3.00</td>\n",
       "      <td>6.70</td>\n",
       "    </tr>\n",
       "    <tr>\n",
       "      <th>Engineer</th>\n",
       "      <td>3.00</td>\n",
       "      <td>5.08</td>\n",
       "    </tr>\n",
       "    <tr>\n",
       "      <th>Lawyer</th>\n",
       "      <td>5.50</td>\n",
       "      <td>5.08</td>\n",
       "    </tr>\n",
       "    <tr>\n",
       "      <th>Manager</th>\n",
       "      <td>5.00</td>\n",
       "      <td>NaN</td>\n",
       "    </tr>\n",
       "    <tr>\n",
       "      <th>Nurse</th>\n",
       "      <td>5.76</td>\n",
       "      <td>NaN</td>\n",
       "    </tr>\n",
       "    <tr>\n",
       "      <th>Sales Representative</th>\n",
       "      <td>NaN</td>\n",
       "      <td>8.00</td>\n",
       "    </tr>\n",
       "    <tr>\n",
       "      <th>Salesperson</th>\n",
       "      <td>NaN</td>\n",
       "      <td>7.00</td>\n",
       "    </tr>\n",
       "    <tr>\n",
       "      <th>Scientist</th>\n",
       "      <td>7.00</td>\n",
       "      <td>NaN</td>\n",
       "    </tr>\n",
       "    <tr>\n",
       "      <th>Software Engineer</th>\n",
       "      <td>NaN</td>\n",
       "      <td>6.33</td>\n",
       "    </tr>\n",
       "    <tr>\n",
       "      <th>Teacher</th>\n",
       "      <td>4.45</td>\n",
       "      <td>6.50</td>\n",
       "    </tr>\n",
       "  </tbody>\n",
       "</table>\n",
       "</div>"
      ],
      "text/plain": [
       "                     Stress Level (out of 10)      \n",
       "Gender                                 Female  Male\n",
       "Occupation                                         \n",
       "Accountant                               4.70  6.00\n",
       "Doctor                                   3.00  6.70\n",
       "Engineer                                 3.00  5.08\n",
       "Lawyer                                   5.50  5.08\n",
       "Manager                                  5.00   NaN\n",
       "Nurse                                    5.76   NaN\n",
       "Sales Representative                      NaN  8.00\n",
       "Salesperson                               NaN  7.00\n",
       "Scientist                                7.00   NaN\n",
       "Software Engineer                         NaN  6.33\n",
       "Teacher                                  4.45  6.50"
      ]
     },
     "metadata": {},
     "output_type": "display_data"
    }
   ],
   "source": [
    "#Grouping the data by 'Occupation' and 'Gender' to calculate the mean stress levels and rounding the values to 2 decimal places\n",
    "grouped1 = round(health.groupby([\"Occupation\",\"Gender\"])[[\"Stress Level (out of 10)\"]].mean().unstack(),2)\n",
    "display(grouped1)"
   ]
  },
  {
   "cell_type": "markdown",
   "metadata": {},
   "source": [
    "These stats show a connection between occupations and stress levels, as well as between gender and stress levels. Males usually feel more stress, ranging from 6 to 8, while females tend to have lower stress, ranging from 3 to 5. Jobs like Sales Representative, Salesperson, Scientist, Doctor, Lawyer, and Accountant come with higher stress levels."
   ]
  },
  {
   "cell_type": "markdown",
   "metadata": {},
   "source": [
    "Here's a graphical representation of how gender and occupations relate to stress levels."
   ]
  },
  {
   "cell_type": "code",
   "execution_count": 134,
   "metadata": {},
   "outputs": [
    {
     "data": {
      "image/png": "[encoded data removed]",
      "text/plain": [
       "<Figure size 640x480 with 1 Axes>"
      ]
     },
     "metadata": {},
     "output_type": "display_data"
    }
   ],
   "source": [
    "#Plotting the grouped1 data as a bar chart and coloring the bars for females with lightpink and the bars for males with lightblue\n",
    "grouped1.plot.bar(stacked=False, color=[\"lightpink\",\"lightblue\"], edgecolor=\"grey\", title=\"Fig 5. Mean Heart Rate by BMI\")\n",
    "\n",
    "#Labelling the axes\n",
    "plt.xlabel(\"Occupation\")\n",
    "plt.ylabel(\"Mean Stress Level (out of 10)\")\n",
    "\n",
    "#Labelling and positioning the legend\n",
    "plt.legend([\"Female\", \"Male\"], title=\"Gender\")\n",
    "\n",
    "#Rotating the x axis occupations for readability\n",
    "plt.xticks(rotation=90) \n",
    "plt.show()"
   ]
  },
  {
   "cell_type": "markdown",
   "metadata": {},
   "source": [
    "### BMI on Heart Rate"
   ]
  },
  {
   "cell_type": "markdown",
   "metadata": {},
   "source": [
    "The table below offers a summary of heart rate, organized by BMI categories."
   ]
  },
  {
   "cell_type": "code",
   "execution_count": 135,
   "metadata": {},
   "outputs": [
    {
     "data": {
      "text/html": [
       "<div>\n",
       "<style scoped>\n",
       "    .dataframe tbody tr th:only-of-type {\n",
       "        vertical-align: middle;\n",
       "    }\n",
       "\n",
       "    .dataframe tbody tr th {\n",
       "        vertical-align: top;\n",
       "    }\n",
       "\n",
       "    .dataframe thead th {\n",
       "        text-align: right;\n",
       "    }\n",
       "</style>\n",
       "<table border=\"1\" class=\"dataframe\">\n",
       "  <thead>\n",
       "    <tr style=\"text-align: right;\">\n",
       "      <th></th>\n",
       "      <th>Heart Rate (bpm)</th>\n",
       "    </tr>\n",
       "    <tr>\n",
       "      <th>BMI</th>\n",
       "      <th></th>\n",
       "    </tr>\n",
       "  </thead>\n",
       "  <tbody>\n",
       "    <tr>\n",
       "      <th>Normal Weight</th>\n",
       "      <td>69.51</td>\n",
       "    </tr>\n",
       "    <tr>\n",
       "      <th>Overweight</th>\n",
       "      <td>71.85</td>\n",
       "    </tr>\n",
       "    <tr>\n",
       "      <th>Obese</th>\n",
       "      <td>84.14</td>\n",
       "    </tr>\n",
       "  </tbody>\n",
       "</table>\n",
       "</div>"
      ],
      "text/plain": [
       "               Heart Rate (bpm)\n",
       "BMI                            \n",
       "Normal Weight             69.51\n",
       "Overweight                71.85\n",
       "Obese                     84.14"
      ]
     },
     "metadata": {},
     "output_type": "display_data"
    }
   ],
   "source": [
    "#Grouping the data by \"BMI\" to calculate the mean heart rate and rounding the values to 2 decimal places and also reindexing for linearity in plotting\n",
    "grouped2 = round(health.groupby(\"BMI\")[[\"Heart Rate (bpm)\"]].mean().reindex([\"Normal Weight\", \"Overweight\", \"Obese\"]),2)\n",
    "display(grouped2)"
   ]
  },
  {
   "cell_type": "markdown",
   "metadata": {},
   "source": [
    "These stats show a possible connection between higher body weight and an increase in resting heart rate. Those with Normal Weight have a heart rate of about 69 beats per minute, while those who are Overweight have a slightly higher rate of around 72 beats per minute. However, individuals classified as Obese have a noticeably higher heart rate, averaging around 84 beats per minute."
   ]
  },
  {
   "cell_type": "markdown",
   "metadata": {},
   "source": [
    "Here's a graphical representation of how BMI relates to heart rate."
   ]
  },
  {
   "cell_type": "code",
   "execution_count": 136,
   "metadata": {},
   "outputs": [
    {
     "data": {
      "image/png": "[encoded data removed]",
      "text/plain": [
       "<Figure size 640x480 with 1 Axes>"
      ]
     },
     "metadata": {},
     "output_type": "display_data"
    }
   ],
   "source": [
    "#Plotting the grouped2 data as a line chart\n",
    "grouped2.plot.line(color=\"green\", title=\"Fig 5. Mean Heart Rate by BMI\")\n",
    "\n",
    "#Labelling the axes\n",
    "plt.xlabel(\"BMI\")\n",
    "plt.ylabel(\"Mean Heart Rate (bpm)\")\n",
    "\n",
    "#Showing the grid\n",
    "plt.grid(True)\n",
    "plt.show()"
   ]
  },
  {
   "cell_type": "markdown",
   "metadata": {},
   "source": [
    "## Discussion\n",
    "\n",
    "#### Gender and Occupation on Stress Levels\n",
    "A discernible trend emerges when examining stress levels across occupations and genders. Overall, females tend to experience slightly lower average stress levels ranging from 3 to 5, compared to males ranging from 6 to 8. Within specific professions, this trend varies significantly. For instance, while female doctors exhibit a stress level of 3.00, their male counterparts report higher stress levels. Similarly, female engineers experience lower stress than male engineers. Certain professions, such as accounting and teaching, display relatively similar stress levels between genders. The highest stress-inducing occupation differs for each gender, with female scientists reporting a stress level of 7.00 and male sales representatives at 8.00. Establishing healthy boundaries, maintaining a balanced lifestyle, and considering professional help when necessary are key components in managing these stress levels.\n",
    "\n",
    "#### BMI on Heart Rate\n",
    "Generally, as the BMI category increases from Normal Weight to Overweight and then to Obese, there's a trend of higher heart rates. This pattern indicates a positive correlation between BMI and heart rate. This data suggests the importance of comprehensive health assessments that consider both BMI and heart rate. It serves as a prompt for individuals, particularly those in higher BMI categories, to monitor their heart health and consult healthcare professionals for medical advice."
   ]
  },
  {
   "cell_type": "markdown",
   "metadata": {},
   "source": [
    "## References\n",
    "1. Source data - https://www.kaggle.com/datasets/uom190346a/sleep-health-and-lifestyle-dataset\n",
    "2. Pandas for data manipulation\n",
    "3. Seaborn for data visualization\n",
    "4. Matplotlib for data visualization"
   ]
  }
 ],
 "metadata": {
  "kernelspec": {
   "display_name": "base",
   "language": "python",
   "name": "python3"
  },
  "language_info": {
   "codemirror_mode": {
    "name": "ipython",
    "version": 3
   },
   "file_extension": ".py",
   "mimetype": "text/x-python",
   "name": "python",
   "nbconvert_exporter": "python",
   "pygments_lexer": "ipython3",
   "version": "3.11.5"
  }
 },
 "nbformat": 4,
 "nbformat_minor": 2
}
